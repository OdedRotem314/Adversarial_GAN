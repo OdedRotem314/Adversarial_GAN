{
 "cells": [
  {
   "cell_type": "code",
   "execution_count": 1,
   "metadata": {},
   "outputs": [],
   "source": [
    "from scipy.io import arff\n",
    "import pandas as pd\n",
    "from sklearn.model_selection import train_test_split\n",
    "from sklearn.ensemble import RandomForestRegressor, RandomForestClassifier\n",
    "from sklearn.preprocessing import LabelEncoder , StandardScaler , PolynomialFeatures , MinMaxScaler\n",
    "from sklearn.ensemble import RandomForestRegressor\n",
    "from sklearn.model_selection  import train_test_split , cross_val_score , KFold\n",
    "from sklearn.metrics import mean_squared_error , r2_score\n",
    "from sklearn.linear_model import LinearRegression\n",
    "from sklearn.pipeline import Pipeline\n",
    "from sklearn.utils import shuffle\n",
    "from sklearn.model_selection import GridSearchCV\n",
    "from sklearn import metrics\n",
    "\n",
    "from tensorflow.python.keras.models import Sequential\n",
    "from tensorflow.python.keras.layers import Dense , Dropout\n",
    "from tensorflow.python.keras.wrappers.scikit_learn import KerasRegressor\n",
    "from sklearn.metrics import ConfusionMatrixDisplay, confusion_matrix, plot_confusion_matrix\n",
    "\n",
    "from keras.callbacks import EarlyStopping\n",
    "from keras.optimizers import Adam\n",
    "from keras.callbacks import EarlyStopping\n",
    "from keras import regularizers\n",
    "from keras.optimizers import Adam\n",
    "from keras.models import Sequential\n",
    "from keras.layers import Dense, Dropout\n",
    "from keras.optimizers import Adam\n",
    "from keras.callbacks import EarlyStopping\n",
    "from keras.utils import to_categorical\n",
    "import joblib\n",
    "\n",
    "from scipy.spatial.distance import euclidean\n",
    "import seaborn as sns\n",
    "import pandas as pd\n",
    "import numpy as np\n",
    "import matplotlib.pyplot as plt"
   ]
  },
  {
   "cell_type": "code",
   "execution_count": 2,
   "metadata": {},
   "outputs": [],
   "source": [
    "data_set = 'diabetes' # diabetes , german_credit"
   ]
  },
  {
   "cell_type": "code",
   "execution_count": 3,
   "metadata": {},
   "outputs": [
    {
     "data": {
      "text/html": [
       "<div>\n",
       "<style scoped>\n",
       "    .dataframe tbody tr th:only-of-type {\n",
       "        vertical-align: middle;\n",
       "    }\n",
       "\n",
       "    .dataframe tbody tr th {\n",
       "        vertical-align: top;\n",
       "    }\n",
       "\n",
       "    .dataframe thead th {\n",
       "        text-align: right;\n",
       "    }\n",
       "</style>\n",
       "<table border=\"1\" class=\"dataframe\">\n",
       "  <thead>\n",
       "    <tr style=\"text-align: right;\">\n",
       "      <th></th>\n",
       "      <th>preg</th>\n",
       "      <th>plas</th>\n",
       "      <th>pres</th>\n",
       "      <th>skin</th>\n",
       "      <th>insu</th>\n",
       "      <th>mass</th>\n",
       "      <th>pedi</th>\n",
       "      <th>age</th>\n",
       "      <th>class</th>\n",
       "    </tr>\n",
       "  </thead>\n",
       "  <tbody>\n",
       "    <tr>\n",
       "      <th>365</th>\n",
       "      <td>5.0</td>\n",
       "      <td>99.0</td>\n",
       "      <td>54.0</td>\n",
       "      <td>28.0</td>\n",
       "      <td>83.0</td>\n",
       "      <td>34.0</td>\n",
       "      <td>0.499</td>\n",
       "      <td>30.0</td>\n",
       "      <td>b'tested_negative'</td>\n",
       "    </tr>\n",
       "    <tr>\n",
       "      <th>716</th>\n",
       "      <td>3.0</td>\n",
       "      <td>173.0</td>\n",
       "      <td>78.0</td>\n",
       "      <td>39.0</td>\n",
       "      <td>185.0</td>\n",
       "      <td>33.8</td>\n",
       "      <td>0.970</td>\n",
       "      <td>31.0</td>\n",
       "      <td>b'tested_positive'</td>\n",
       "    </tr>\n",
       "    <tr>\n",
       "      <th>219</th>\n",
       "      <td>5.0</td>\n",
       "      <td>112.0</td>\n",
       "      <td>66.0</td>\n",
       "      <td>0.0</td>\n",
       "      <td>0.0</td>\n",
       "      <td>37.8</td>\n",
       "      <td>0.261</td>\n",
       "      <td>41.0</td>\n",
       "      <td>b'tested_positive'</td>\n",
       "    </tr>\n",
       "    <tr>\n",
       "      <th>732</th>\n",
       "      <td>2.0</td>\n",
       "      <td>174.0</td>\n",
       "      <td>88.0</td>\n",
       "      <td>37.0</td>\n",
       "      <td>120.0</td>\n",
       "      <td>44.5</td>\n",
       "      <td>0.646</td>\n",
       "      <td>24.0</td>\n",
       "      <td>b'tested_positive'</td>\n",
       "    </tr>\n",
       "    <tr>\n",
       "      <th>470</th>\n",
       "      <td>1.0</td>\n",
       "      <td>144.0</td>\n",
       "      <td>82.0</td>\n",
       "      <td>40.0</td>\n",
       "      <td>0.0</td>\n",
       "      <td>41.3</td>\n",
       "      <td>0.607</td>\n",
       "      <td>28.0</td>\n",
       "      <td>b'tested_negative'</td>\n",
       "    </tr>\n",
       "    <tr>\n",
       "      <th>...</th>\n",
       "      <td>...</td>\n",
       "      <td>...</td>\n",
       "      <td>...</td>\n",
       "      <td>...</td>\n",
       "      <td>...</td>\n",
       "      <td>...</td>\n",
       "      <td>...</td>\n",
       "      <td>...</td>\n",
       "      <td>...</td>\n",
       "    </tr>\n",
       "    <tr>\n",
       "      <th>355</th>\n",
       "      <td>9.0</td>\n",
       "      <td>165.0</td>\n",
       "      <td>88.0</td>\n",
       "      <td>0.0</td>\n",
       "      <td>0.0</td>\n",
       "      <td>30.4</td>\n",
       "      <td>0.302</td>\n",
       "      <td>49.0</td>\n",
       "      <td>b'tested_positive'</td>\n",
       "    </tr>\n",
       "    <tr>\n",
       "      <th>46</th>\n",
       "      <td>1.0</td>\n",
       "      <td>146.0</td>\n",
       "      <td>56.0</td>\n",
       "      <td>0.0</td>\n",
       "      <td>0.0</td>\n",
       "      <td>29.7</td>\n",
       "      <td>0.564</td>\n",
       "      <td>29.0</td>\n",
       "      <td>b'tested_negative'</td>\n",
       "    </tr>\n",
       "    <tr>\n",
       "      <th>278</th>\n",
       "      <td>5.0</td>\n",
       "      <td>114.0</td>\n",
       "      <td>74.0</td>\n",
       "      <td>0.0</td>\n",
       "      <td>0.0</td>\n",
       "      <td>24.9</td>\n",
       "      <td>0.744</td>\n",
       "      <td>57.0</td>\n",
       "      <td>b'tested_negative'</td>\n",
       "    </tr>\n",
       "    <tr>\n",
       "      <th>35</th>\n",
       "      <td>4.0</td>\n",
       "      <td>103.0</td>\n",
       "      <td>60.0</td>\n",
       "      <td>33.0</td>\n",
       "      <td>192.0</td>\n",
       "      <td>24.0</td>\n",
       "      <td>0.966</td>\n",
       "      <td>33.0</td>\n",
       "      <td>b'tested_negative'</td>\n",
       "    </tr>\n",
       "    <tr>\n",
       "      <th>163</th>\n",
       "      <td>2.0</td>\n",
       "      <td>100.0</td>\n",
       "      <td>64.0</td>\n",
       "      <td>23.0</td>\n",
       "      <td>0.0</td>\n",
       "      <td>29.7</td>\n",
       "      <td>0.368</td>\n",
       "      <td>21.0</td>\n",
       "      <td>b'tested_negative'</td>\n",
       "    </tr>\n",
       "  </tbody>\n",
       "</table>\n",
       "<p>768 rows × 9 columns</p>\n",
       "</div>"
      ],
      "text/plain": [
       "     preg   plas  pres  skin   insu  mass   pedi   age               class\n",
       "365   5.0   99.0  54.0  28.0   83.0  34.0  0.499  30.0  b'tested_negative'\n",
       "716   3.0  173.0  78.0  39.0  185.0  33.8  0.970  31.0  b'tested_positive'\n",
       "219   5.0  112.0  66.0   0.0    0.0  37.8  0.261  41.0  b'tested_positive'\n",
       "732   2.0  174.0  88.0  37.0  120.0  44.5  0.646  24.0  b'tested_positive'\n",
       "470   1.0  144.0  82.0  40.0    0.0  41.3  0.607  28.0  b'tested_negative'\n",
       "..    ...    ...   ...   ...    ...   ...    ...   ...                 ...\n",
       "355   9.0  165.0  88.0   0.0    0.0  30.4  0.302  49.0  b'tested_positive'\n",
       "46    1.0  146.0  56.0   0.0    0.0  29.7  0.564  29.0  b'tested_negative'\n",
       "278   5.0  114.0  74.0   0.0    0.0  24.9  0.744  57.0  b'tested_negative'\n",
       "35    4.0  103.0  60.0  33.0  192.0  24.0  0.966  33.0  b'tested_negative'\n",
       "163   2.0  100.0  64.0  23.0    0.0  29.7  0.368  21.0  b'tested_negative'\n",
       "\n",
       "[768 rows x 9 columns]"
      ]
     },
     "execution_count": 3,
     "metadata": {},
     "output_type": "execute_result"
    }
   ],
   "source": [
    "if data_set == 'diabetes':\n",
    "    data = arff.loadarff('/home/odedrot/DL_ex_4/Assignment 4 files/diabetes.arff')\n",
    "if data_set == 'german_credit':\n",
    "    data = arff.loadarff('/home/odedrot/DL_ex_4/Assignment 4 files/german_credit.arff')\n",
    "\n",
    "df = pd.DataFrame(data[0])\n",
    "np.random.seed()\n",
    "df = df.reindex(np.random.permutation(df.index))\n",
    "Ndata_points=len(df) # len(df)  for max\n",
    "df=df[0:Ndata_points] \n",
    "df"
   ]
  },
  {
   "cell_type": "code",
   "execution_count": 4,
   "metadata": {},
   "outputs": [],
   "source": [
    "X = pd.DataFrame()\n",
    "y = pd.DataFrame()\n",
    "X = df.drop(['class'], axis=1)\n",
    "y = df['class']  \n",
    "X = X.to_numpy()\n",
    "\n",
    "labelencoder = LabelEncoder()\n",
    "y = labelencoder.fit_transform(y)\n",
    "y = np.hstack(y)"
   ]
  },
  {
   "cell_type": "code",
   "execution_count": 5,
   "metadata": {},
   "outputs": [
    {
     "name": "stdout",
     "output_type": "stream",
     "text": [
      "268\n",
      "500\n"
     ]
    }
   ],
   "source": [
    "print( len(y[y==1]) )\n",
    "print( len(y[y==0]) ) # more 0's than 1's"
   ]
  },
  {
   "cell_type": "code",
   "execution_count": 6,
   "metadata": {},
   "outputs": [],
   "source": [
    "# split\n",
    "X, y = shuffle(X,y)\n",
    "X_train, X_test, y_train, y_test = train_test_split(X, y, test_size = 0.3, random_state = 42)"
   ]
  },
  {
   "cell_type": "code",
   "execution_count": 7,
   "metadata": {},
   "outputs": [
    {
     "name": "stdout",
     "output_type": "stream",
     "text": [
      "358\n",
      "358\n",
      "179\n",
      "179\n"
     ]
    }
   ],
   "source": [
    "# balance training data\n",
    "sampling='nothing'\n",
    "\n",
    "# cut label 0 samples to be equal to label 1\n",
    "if sampling == 'nothing':\n",
    "    X_0_train = X_train[y_train==0]\n",
    "    y_0_train = y_train[y_train==0]\n",
    "    X_1_train = X_train[y_train==1]\n",
    "    y_1_train = y_train[y_train==1]\n",
    "    \n",
    "if sampling == 'undersample':\n",
    "    X_0_train = X_train[y_train==0][:len(y_train[y_train==1])]\n",
    "    y_0_train = y_train[y_train==0][:len(y_train[y_train==1])]\n",
    "    X_1_train = X_train[y_train==1]\n",
    "    y_1_train = y_train[y_train==1]\n",
    "if sampling=='oversample':\n",
    "    X_0_train = X_train[y_train==0]\n",
    "    y_0_train = y_train[y_train==0]\n",
    "    delta = np.abs(len(y_train[y_train==0]) - len(y_train[y_train==1]))\n",
    "    X_1_train = np.concatenate((X_train[y_train==1], X_train[y_train==1][:delta]))\n",
    "    y_1_train = np.concatenate((y_train[y_train==1], y_train[y_train==1][:delta]))\n",
    "    \n",
    "    print(len(X_0_train)) \n",
    "    print(len(y_0_train)) \n",
    "    print(len(X_1_train)) \n",
    "    print(len(X_1_train)) \n",
    "    \n",
    "    X_0_train = np.concatenate((X_0_train, X_0_train, X_0_train, X_0_train))\n",
    "    y_0_train = np.concatenate((y_0_train, y_0_train, y_0_train, y_0_train))\n",
    "    X_1_train = np.concatenate((X_1_train, X_1_train, X_1_train, X_1_train))\n",
    "    y_1_train = np.concatenate((y_1_train, y_1_train, y_1_train, y_1_train))\n",
    "                              \n",
    "print(len(X_0_train))\n",
    "print(len(y_0_train))\n",
    "print(len(X_1_train))\n",
    "print(len(X_1_train))     "
   ]
  },
  {
   "cell_type": "code",
   "execution_count": 8,
   "metadata": {},
   "outputs": [
    {
     "name": "stdout",
     "output_type": "stream",
     "text": [
      "179\n",
      "358\n",
      "89\n",
      "142\n"
     ]
    }
   ],
   "source": [
    "print( len(y_train[y_train==1]) )\n",
    "print( len(y_train[y_train==0]) )\n",
    "print( len(y_test[y_test==1]) )\n",
    "print( len(y_test[y_test==0]) )"
   ]
  },
  {
   "cell_type": "code",
   "execution_count": 9,
   "metadata": {},
   "outputs": [],
   "source": [
    "# # normalize feature space \n",
    "sc = StandardScaler() # MinMaxScaler()  StandardScaler()\n",
    "X_train = sc.fit_transform(X_train) # use training data to fit and transform\n",
    "X_test = sc.transform(X_test) # only transormthe test data\n",
    "\n",
    "# scaler = StandardScaler().fit(X)\n",
    "# X_scaled = scaler.transform(X)"
   ]
  },
  {
   "cell_type": "code",
   "execution_count": 10,
   "metadata": {},
   "outputs": [
    {
     "data": {
      "image/png": "[encoded data removed]",
      "text/plain": [
       "<Figure size 432x288 with 1 Axes>"
      ]
     },
     "metadata": {
      "needs_background": "light"
     },
     "output_type": "display_data"
    }
   ],
   "source": [
    "plt.hist(X_train.flatten(), 100)\n",
    "plt.hist(X_test.flatten(), 100)\n",
    "plt.show()"
   ]
  },
  {
   "cell_type": "code",
   "execution_count": 11,
   "metadata": {},
   "outputs": [
    {
     "data": {
      "text/plain": [
       "RandomForestClassifier(n_jobs=-1, random_state=42)"
      ]
     },
     "execution_count": 11,
     "metadata": {},
     "output_type": "execute_result"
    }
   ],
   "source": [
    "rf_model = RandomForestClassifier(n_estimators = 100, random_state =42,  n_jobs=-1, verbose = 0)\n",
    "rf_model.fit(X_train, y_train)"
   ]
  },
  {
   "cell_type": "code",
   "execution_count": 12,
   "metadata": {},
   "outputs": [
    {
     "name": "stdout",
     "output_type": "stream",
     "text": [
      "Train Accuracy: 1.0\n",
      "Test Accuracy: 0.7662337662337663\n"
     ]
    }
   ],
   "source": [
    "train_prob = rf_model.predict(X_train)\n",
    "test_prob = rf_model.predict(X_test)\n",
    "\n",
    "print(\"Train Accuracy:\",metrics.accuracy_score(y_train, train_prob))\n",
    "print(\"Test Accuracy:\",metrics.accuracy_score(y_test, test_prob))\n"
   ]
  },
  {
   "cell_type": "code",
   "execution_count": 13,
   "metadata": {},
   "outputs": [],
   "source": [
    "scores = cross_val_score(rf_model, X_test, y_test)\n"
   ]
  },
  {
   "cell_type": "code",
   "execution_count": 14,
   "metadata": {},
   "outputs": [
    {
     "name": "stdout",
     "output_type": "stream",
     "text": [
      "0.7445883441258094\n"
     ]
    }
   ],
   "source": [
    "print(scores.mean())\n"
   ]
  },
  {
   "cell_type": "code",
   "execution_count": 15,
   "metadata": {},
   "outputs": [
    {
     "data": {
      "text/plain": [
       "Text(0.5, 1.0, 'rf train set')"
      ]
     },
     "execution_count": 15,
     "metadata": {},
     "output_type": "execute_result"
    },
    {
     "data": {
      "image/png": "[encoded data removed]",
      "text/plain": [
       "<Figure size 432x288 with 2 Axes>"
      ]
     },
     "metadata": {
      "needs_background": "light"
     },
     "output_type": "display_data"
    }
   ],
   "source": [
    "disp = plot_confusion_matrix(rf_model, X_train, y_train, display_labels=['No', 'Yes'], cmap=plt.cm.Blues,normalize=None)\n",
    "disp.ax_.set_title('rf train set')\n"
   ]
  },
  {
   "cell_type": "code",
   "execution_count": 16,
   "metadata": {},
   "outputs": [
    {
     "data": {
      "text/plain": [
       "Text(0.5, 1.0, 'rf test set')"
      ]
     },
     "execution_count": 16,
     "metadata": {},
     "output_type": "execute_result"
    },
    {
     "data": {
      "image/png": "[encoded data removed]",
      "text/plain": [
       "<Figure size 432x288 with 2 Axes>"
      ]
     },
     "metadata": {
      "needs_background": "light"
     },
     "output_type": "display_data"
    }
   ],
   "source": [
    "disp = plot_confusion_matrix(rf_model, X_test, y_test, display_labels=['No', 'Yes'], cmap=plt.cm.Blues,normalize=None)\n",
    "disp.ax_.set_title('rf test set')\n",
    "# 0 - 86%   1 - 68%\n"
   ]
  },
  {
   "cell_type": "code",
   "execution_count": 17,
   "metadata": {},
   "outputs": [
    {
     "data": {
      "image/png": "[encoded data removed]",
      "text/plain": [
       "<Figure size 432x288 with 1 Axes>"
      ]
     },
     "metadata": {
      "needs_background": "light"
     },
     "output_type": "display_data"
    },
    {
     "name": "stdout",
     "output_type": "stream",
     "text": [
      "1.0\n",
      "0.07\n",
      "0.6527705627705629\n"
     ]
    }
   ],
   "source": [
    "# test probabilities score distribution\n",
    "predictions = rf_model.predict_proba(X_test)\n",
    "_ = plt.hist(predictions.flatten(), bins=150)\n",
    "plt.show()\n",
    "print(np.max(predictions[:,0]))\n",
    "print(np.min(predictions[:,0]))\n",
    "print(np.mean(predictions[:,0]))\n"
   ]
  },
  {
   "cell_type": "code",
   "execution_count": 18,
   "metadata": {},
   "outputs": [
    {
     "data": {
      "image/png": "[encoded data removed]",
      "text/plain": [
       "<Figure size 432x288 with 1 Axes>"
      ]
     },
     "metadata": {
      "needs_background": "light"
     },
     "output_type": "display_data"
    }
   ],
   "source": [
    "# random 8dim arrays\n",
    "rand_features  = np.random.uniform(0, 1, (1000, 8))\n",
    "y_label_rand = rf_model.predict(rand_features)\n",
    "plt.hist(y_label_rand)\n",
    "plt.show()"
   ]
  },
  {
   "cell_type": "code",
   "execution_count": 19,
   "metadata": {},
   "outputs": [],
   "source": [
    "# joblib.dump(rf_model, \"/home/odedrot/DL_ex_4/credit_trained_rf_standardscaler.joblib\")"
   ]
  }
 ],
 "metadata": {
  "kernelspec": {
   "display_name": "odedenv",
   "language": "python",
   "name": "odedenv"
  },
  "language_info": {
   "codemirror_mode": {
    "name": "ipython",
    "version": 3
   },
   "file_extension": ".py",
   "mimetype": "text/x-python",
   "name": "python",
   "nbconvert_exporter": "python",
   "pygments_lexer": "ipython3",
   "version": "3.6.11"
  }
 },
 "nbformat": 4,
 "nbformat_minor": 4
}
